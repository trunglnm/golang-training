{
 "cells": [
  {
   "cell_type": "markdown",
   "metadata": {},
   "source": [
    "# Hello world"
   ]
  },
  {
   "cell_type": "code",
   "execution_count": 1,
   "metadata": {},
   "outputs": [
    {
     "name": "stdout",
     "output_type": "stream",
     "text": [
      "Hello world\n"
     ]
    },
    {
     "data": {
      "text/plain": [
       "12 <nil>"
      ]
     },
     "execution_count": 1,
     "metadata": {},
     "output_type": "execute_result"
    }
   ],
   "source": [
    "import \"fmt\"\n",
    "fmt.Println(\"Hello world\")"
   ]
  },
  {
   "cell_type": "markdown",
   "metadata": {},
   "source": [
    "# Values"
   ]
  },
  {
   "cell_type": "code",
   "execution_count": 2,
   "metadata": {},
   "outputs": [
    {
     "name": "stdout",
     "output_type": "stream",
     "text": [
      "golang\n",
      "1+1 = 2\n",
      "7.0/3.0 = 2.3333333333333335\n",
      "false\n",
      "true\n",
      "false\n"
     ]
    },
    {
     "data": {
      "text/plain": [
       "6 <nil>"
      ]
     },
     "execution_count": 2,
     "metadata": {},
     "output_type": "execute_result"
    }
   ],
   "source": [
    "// Strings, which can be added together with `+`.\n",
    "fmt.Println(\"go\" + \"lang\")\n",
    "\n",
    "// Integers and floats.\n",
    "fmt.Println(\"1+1 =\", 1+1)\n",
    "fmt.Println(\"7.0/3.0 =\", 7.0/3.0)\n",
    "\n",
    "// Booleans, with boolean operators as you'd expect.\n",
    "fmt.Println(true && false)\n",
    "fmt.Println(true || false)\n",
    "fmt.Println(!true)"
   ]
  },
  {
   "cell_type": "markdown",
   "metadata": {},
   "source": [
    "# Variables"
   ]
  },
  {
   "cell_type": "code",
   "execution_count": 3,
   "metadata": {},
   "outputs": [
    {
     "name": "stdout",
     "output_type": "stream",
     "text": [
      "initial\n",
      "1 2\n",
      "true\n",
      "0\n",
      "apple\n"
     ]
    },
    {
     "data": {
      "text/plain": [
       "6 <nil>"
      ]
     },
     "execution_count": 3,
     "metadata": {},
     "output_type": "execute_result"
    }
   ],
   "source": [
    "var a = \"initial\"\n",
    "fmt.Println(a)\n",
    "\n",
    "var b, c int = 1, 2\n",
    "fmt.Println(b, c)\n",
    "\n",
    "var d = true\n",
    "fmt.Println(d)\n",
    "\n",
    "var e int\n",
    "fmt.Println(e)\n",
    "\n",
    "f := \"apple\"\n",
    "fmt.Println(f)"
   ]
  },
  {
   "cell_type": "markdown",
   "metadata": {},
   "source": [
    "# Constants\n",
    "\n",
    "Go supports constants of character, string, boolean, and numeric values.\n",
    "\n",
    "const declares a constant value.\n",
    "\n",
    "A const statement can appear anywhere a var statement can.\n",
    "Constant expressions perform arithmetic with arbitrary precision.\n",
    "A numeric constant has no type until it’s given one, such as by an explicit conversion.\n",
    "A number can be given a type by using it in a context that requires one, such as a variable assignment or function call. For example, here math.Sin expects a float64."
   ]
  },
  {
   "cell_type": "code",
   "execution_count": 8,
   "metadata": {},
   "outputs": [
    {
     "name": "stdout",
     "output_type": "stream",
     "text": [
      "constant\n",
      "6e+11\n",
      "600000000000\n",
      "-0.28470407323754404\n"
     ]
    },
    {
     "data": {
      "text/plain": [
       "21 <nil>"
      ]
     },
     "execution_count": 8,
     "metadata": {},
     "output_type": "execute_result"
    }
   ],
   "source": [
    "import (\n",
    "    \"fmt\"\n",
    "    \"math\"\n",
    ")\n",
    "\n",
    "const s string = \"constant\"\n",
    "\n",
    "fmt.Println(s)\n",
    "\n",
    "const n = 500000000\n",
    "\n",
    "const d = 3e20 / n\n",
    "fmt.Println(d)\n",
    "\n",
    "fmt.Println(int64(d))\n",
    "\n",
    "fmt.Println(math.Sin(n))"
   ]
  },
  {
   "cell_type": "code",
   "execution_count": 12,
   "metadata": {},
   "outputs": [
    {
     "name": "stdout",
     "output_type": "stream",
     "text": [
      "anynomus function\n"
     ]
    }
   ],
   "source": [
    "func f(){\n",
    "    fmt.Println(\"anynomus function\")\n",
    "}\n",
    "f()"
   ]
  },
  {
   "cell_type": "markdown",
   "metadata": {},
   "source": [
    "# For"
   ]
  },
  {
   "cell_type": "code",
   "execution_count": 15,
   "metadata": {},
   "outputs": [
    {
     "name": "stdout",
     "output_type": "stream",
     "text": [
      "1\n",
      "2\n",
      "3\n",
      "7\n",
      "8\n",
      "9\n",
      "loop\n",
      "1\n",
      "3\n",
      "5\n"
     ]
    }
   ],
   "source": [
    "func main() {\n",
    "\n",
    "    i := 1\n",
    "    for i <= 3 {\n",
    "        fmt.Println(i)\n",
    "        i = i + 1\n",
    "    }\n",
    "\n",
    "    for j := 7; j <= 9; j++ {\n",
    "        fmt.Println(j)\n",
    "    }\n",
    "\n",
    "    for {\n",
    "        fmt.Println(\"loop\")\n",
    "        break\n",
    "    }\n",
    "\n",
    "    for n := 0; n <= 5; n++ {\n",
    "        if n%2 == 0 {\n",
    "            continue\n",
    "        }\n",
    "        fmt.Println(n)\n",
    "    }\n",
    "}\n",
    "main()"
   ]
  },
  {
   "cell_type": "markdown",
   "metadata": {},
   "source": [
    "# If/else"
   ]
  },
  {
   "cell_type": "code",
   "execution_count": 14,
   "metadata": {},
   "outputs": [
    {
     "name": "stdout",
     "output_type": "stream",
     "text": [
      "7 is odd\n",
      "8 is divisible by 4\n",
      "9 has 1 digit\n"
     ]
    }
   ],
   "source": [
    "func main() {\n",
    "\n",
    "    if 7%2 == 0 {\n",
    "        fmt.Println(\"7 is even\")\n",
    "    } else {\n",
    "        fmt.Println(\"7 is odd\")\n",
    "    }\n",
    "\n",
    "    if 8%4 == 0 {\n",
    "        fmt.Println(\"8 is divisible by 4\")\n",
    "    }\n",
    "\n",
    "    if num := 9; num < 0 {\n",
    "        fmt.Println(num, \"is negative\")\n",
    "    } else if num < 10 {\n",
    "        fmt.Println(num, \"has 1 digit\")\n",
    "    } else {\n",
    "        fmt.Println(num, \"has multiple digits\")\n",
    "    }\n",
    "}\n",
    "main()"
   ]
  },
  {
   "cell_type": "markdown",
   "metadata": {},
   "source": [
    "# Switch"
   ]
  },
  {
   "cell_type": "code",
   "execution_count": 19,
   "metadata": {},
   "outputs": [
    {
     "name": "stdout",
     "output_type": "stream",
     "text": [
      "Write 2 as two\n",
      "It's a weekday\n",
      "It's before noon\n",
      "I'm a bool\n",
      "I'm an int\n",
      "Don't know type string\n"
     ]
    }
   ],
   "source": [
    "import (\n",
    "    \"fmt\"\n",
    "    \"time\"\n",
    ")\n",
    "\n",
    "func main() {\n",
    "\n",
    "    i := 2\n",
    "    fmt.Print(\"Write \", i, \" as \")\n",
    "    switch i {\n",
    "    case 1:\n",
    "        fmt.Println(\"one\")\n",
    "    case 2:\n",
    "        fmt.Println(\"two\")\n",
    "    case 3:\n",
    "        fmt.Println(\"three\")\n",
    "    }\n",
    "\n",
    "    switch time.Now().Weekday() {\n",
    "    case time.Saturday, time.Sunday:\n",
    "        fmt.Println(\"It's the weekend\")\n",
    "    default:\n",
    "        fmt.Println(\"It's a weekday\")\n",
    "    }\n",
    "\n",
    "    t := time.Now()\n",
    "    switch {\n",
    "    case t.Hour() < 12:\n",
    "        fmt.Println(\"It's before noon\")\n",
    "    default:\n",
    "        fmt.Println(\"It's after noon\")\n",
    "    }\n",
    "\n",
    "    whatAmI := func(i interface{}) {\n",
    "        switch t := i.(type) {\n",
    "        case bool:\n",
    "            fmt.Println(\"I'm a bool\")\n",
    "        case int:\n",
    "            fmt.Println(\"I'm an int\")\n",
    "        default:\n",
    "            fmt.Printf(\"Don't know type %T\\n\", t)\n",
    "        }\n",
    "    }\n",
    "    whatAmI(true)\n",
    "    whatAmI(1)\n",
    "    whatAmI(\"hey\")\n",
    "}\n",
    "main()"
   ]
  },
  {
   "cell_type": "markdown",
   "metadata": {},
   "source": [
    "# Array"
   ]
  },
  {
   "cell_type": "code",
   "execution_count": 20,
   "metadata": {},
   "outputs": [
    {
     "name": "stdout",
     "output_type": "stream",
     "text": [
      "emp: [0 0 0 0 0]\n",
      "set: [0 0 0 0 100]\n",
      "get: 100\n",
      "len: 5\n",
      "dcl: [1 2 3 4 5]\n",
      "2d:  [[0 1 2] [1 2 3]]\n"
     ]
    }
   ],
   "source": [
    "import \"fmt\"\n",
    "\n",
    "func main() {\n",
    "\n",
    "    var a [5]int\n",
    "    fmt.Println(\"emp:\", a)\n",
    "\n",
    "    a[4] = 100\n",
    "    fmt.Println(\"set:\", a)\n",
    "    fmt.Println(\"get:\", a[4])\n",
    "\n",
    "    fmt.Println(\"len:\", len(a))\n",
    "\n",
    "    b := [5]int{1, 2, 3, 4, 5}\n",
    "    fmt.Println(\"dcl:\", b)\n",
    "\n",
    "    var twoD [2][3]int\n",
    "    for i := 0; i < 2; i++ {\n",
    "        for j := 0; j < 3; j++ {\n",
    "            twoD[i][j] = i + j\n",
    "        }\n",
    "    }\n",
    "    fmt.Println(\"2d: \", twoD)\n",
    "}\n",
    "main()"
   ]
  },
  {
   "cell_type": "markdown",
   "metadata": {},
   "source": [
    "# Slice"
   ]
  },
  {
   "cell_type": "code",
   "execution_count": 21,
   "metadata": {},
   "outputs": [
    {
     "name": "stdout",
     "output_type": "stream",
     "text": [
      "emp: [  ]\n",
      "set: [a b c]\n",
      "get: c\n",
      "len: 3\n",
      "apd: [a b c d e f]\n",
      "cpy: [a b c d e f]\n",
      "sl1: [c d e]\n",
      "sl2: [a b c d e]\n",
      "sl3: [c d e f]\n",
      "dcl: [g h i]\n",
      "2d:  [[0] [1 2] [2 3 4]]\n"
     ]
    }
   ],
   "source": [
    "func main() {\n",
    "\n",
    "    s := make([]string, 3)\n",
    "    fmt.Println(\"emp:\", s)\n",
    "\n",
    "    s[0] = \"a\"\n",
    "    s[1] = \"b\"\n",
    "    s[2] = \"c\"\n",
    "    fmt.Println(\"set:\", s)\n",
    "    fmt.Println(\"get:\", s[2])\n",
    "\n",
    "    fmt.Println(\"len:\", len(s))\n",
    "\n",
    "    s = append(s, \"d\")\n",
    "    s = append(s, \"e\", \"f\")\n",
    "    fmt.Println(\"apd:\", s)\n",
    "\n",
    "    c := make([]string, len(s))\n",
    "    copy(c, s)\n",
    "    fmt.Println(\"cpy:\", c)\n",
    "\n",
    "    l := s[2:5]\n",
    "    fmt.Println(\"sl1:\", l)\n",
    "\n",
    "    l = s[:5]\n",
    "    fmt.Println(\"sl2:\", l)\n",
    "\n",
    "    l = s[2:]\n",
    "    fmt.Println(\"sl3:\", l)\n",
    "\n",
    "    t := []string{\"g\", \"h\", \"i\"}\n",
    "    fmt.Println(\"dcl:\", t)\n",
    "\n",
    "    twoD := make([][]int, 3)\n",
    "    for i := 0; i < 3; i++ {\n",
    "        innerLen := i + 1\n",
    "        twoD[i] = make([]int, innerLen)\n",
    "        for j := 0; j < innerLen; j++ {\n",
    "            twoD[i][j] = i + j\n",
    "        }\n",
    "    }\n",
    "    fmt.Println(\"2d: \", twoD)\n",
    "}\n",
    "main()"
   ]
  },
  {
   "cell_type": "markdown",
   "metadata": {},
   "source": [
    "# Map"
   ]
  },
  {
   "cell_type": "code",
   "execution_count": 22,
   "metadata": {
    "scrolled": true
   },
   "outputs": [
    {
     "name": "stdout",
     "output_type": "stream",
     "text": [
      "map: map[k1:7 k2:13]\n",
      "v1:  7\n",
      "len: 2\n",
      "map: map[k1:7]\n",
      "prs: false\n",
      "map: map[foo:1 bar:2]\n"
     ]
    }
   ],
   "source": [
    "import \"fmt\"\n",
    "\n",
    "func main() {\n",
    "\n",
    "    m := make(map[string]int)\n",
    "\n",
    "    m[\"k1\"] = 7\n",
    "    m[\"k2\"] = 13\n",
    "\n",
    "    fmt.Println(\"map:\", m)\n",
    "\n",
    "    v1 := m[\"k1\"]\n",
    "    fmt.Println(\"v1: \", v1)\n",
    "\n",
    "    fmt.Println(\"len:\", len(m))\n",
    "\n",
    "    delete(m, \"k2\")\n",
    "    fmt.Println(\"map:\", m)\n",
    "\n",
    "    _, prs := m[\"k2\"]\n",
    "    fmt.Println(\"prs:\", prs)\n",
    "\n",
    "    n := map[string]int{\"foo\": 1, \"bar\": 2}\n",
    "    fmt.Println(\"map:\", n)\n",
    "}\n",
    "main()"
   ]
  },
  {
   "cell_type": "markdown",
   "metadata": {},
   "source": [
    "# Range"
   ]
  },
  {
   "cell_type": "code",
   "execution_count": null,
   "metadata": {},
   "outputs": [],
   "source": [
    "import \"fmt\"\n",
    "\n",
    "func main() {\n",
    "\n",
    "    nums := []int{2, 3, 4}\n",
    "    sum := 0\n",
    "    for _, num := range nums {\n",
    "        sum += num\n",
    "    }\n",
    "    fmt.Println(\"sum:\", sum)\n",
    "\n",
    "    for i, num := range nums {\n",
    "        if num == 3 {\n",
    "            fmt.Println(\"index:\", i)\n",
    "        }\n",
    "    }\n",
    "\n",
    "    kvs := map[string]string{\"a\": \"apple\", \"b\": \"banana\"}\n",
    "    for k, v := range kvs {\n",
    "        fmt.Printf(\"%s -> %s\\n\", k, v)\n",
    "    }\n",
    "\n",
    "    for k := range kvs {\n",
    "        fmt.Println(\"key:\", k)\n",
    "    }\n",
    "\n",
    "    for i, c := range \"go\" {\n",
    "        fmt.Println(i, c)\n",
    "    }\n",
    "}\n",
    "main()"
   ]
  },
  {
   "cell_type": "markdown",
   "metadata": {},
   "source": [
    "# Function"
   ]
  },
  {
   "cell_type": "code",
   "execution_count": 23,
   "metadata": {},
   "outputs": [
    {
     "name": "stdout",
     "output_type": "stream",
     "text": [
      "1+2 = 3\n",
      "1+2+3 = 6\n"
     ]
    }
   ],
   "source": [
    "func plus(a int, b int) int {\n",
    "\n",
    "    return a + b\n",
    "}\n",
    "\n",
    "func plusPlus(a, b, c int) int {\n",
    "    return a + b + c\n",
    "}\n",
    "\n",
    "func main() {\n",
    "\n",
    "    res := plus(1, 2)\n",
    "    fmt.Println(\"1+2 =\", res)\n",
    "\n",
    "    res = plusPlus(1, 2, 3)\n",
    "    fmt.Println(\"1+2+3 =\", res)\n",
    "}\n",
    "main()"
   ]
  },
  {
   "cell_type": "markdown",
   "metadata": {},
   "source": [
    "# Multiple Return Values"
   ]
  },
  {
   "cell_type": "code",
   "execution_count": 24,
   "metadata": {},
   "outputs": [
    {
     "name": "stdout",
     "output_type": "stream",
     "text": [
      "3\n",
      "7\n",
      "7\n"
     ]
    }
   ],
   "source": [
    "import \"fmt\"\n",
    "\n",
    "func vals() (int, int) {\n",
    "    return 3, 7\n",
    "}\n",
    "\n",
    "func main() {\n",
    "\n",
    "    a, b := vals()\n",
    "    fmt.Println(a)\n",
    "    fmt.Println(b)\n",
    "\n",
    "    _, c := vals()\n",
    "    fmt.Println(c)\n",
    "}\n",
    "main()"
   ]
  },
  {
   "cell_type": "markdown",
   "metadata": {},
   "source": [
    "# Variadic Functions"
   ]
  },
  {
   "cell_type": "code",
   "execution_count": 28,
   "metadata": {},
   "outputs": [
    {
     "name": "stdout",
     "output_type": "stream",
     "text": [
      "[1 2] 3\n",
      "[1 2 3] 6\n",
      "[1 2 3 4] 10\n"
     ]
    }
   ],
   "source": [
    "import \"fmt\"\n",
    "\n",
    "func sum(nums ...int) {\n",
    "    fmt.Print(nums, \" \")\n",
    "    total := 0\n",
    "    for _, num := range nums {\n",
    "        total += num\n",
    "    }\n",
    "    fmt.Println(total)\n",
    "}\n",
    "\n",
    "func main() {\n",
    "\n",
    "    sum(1, 2)\n",
    "    sum(1, 2, 3)\n",
    "\n",
    "    nums := []int{1, 2, 3, 4}\n",
    "    sum(nums...)\n",
    "}\n",
    "main()"
   ]
  },
  {
   "cell_type": "markdown",
   "metadata": {},
   "source": [
    "# Closures"
   ]
  },
  {
   "cell_type": "code",
   "execution_count": 29,
   "metadata": {},
   "outputs": [
    {
     "name": "stdout",
     "output_type": "stream",
     "text": [
      "1\n",
      "2\n",
      "3\n",
      "1\n"
     ]
    }
   ],
   "source": [
    "import \"fmt\"\n",
    "\n",
    "func intSeq() func() int {\n",
    "    i := 0\n",
    "    return func() int {\n",
    "        i++\n",
    "        return i\n",
    "    }\n",
    "}\n",
    "\n",
    "func main() {\n",
    "\n",
    "    nextInt := intSeq()\n",
    "\n",
    "    fmt.Println(nextInt())\n",
    "    fmt.Println(nextInt())\n",
    "    fmt.Println(nextInt())\n",
    "\n",
    "    newInts := intSeq()\n",
    "    fmt.Println(newInts())\n",
    "}\n",
    "main()"
   ]
  },
  {
   "cell_type": "markdown",
   "metadata": {},
   "source": [
    "# Recursion"
   ]
  },
  {
   "cell_type": "code",
   "execution_count": 30,
   "metadata": {},
   "outputs": [
    {
     "name": "stdout",
     "output_type": "stream",
     "text": [
      "5040\n"
     ]
    }
   ],
   "source": [
    "import \"fmt\"\n",
    "\n",
    "func fact(n int) int {\n",
    "    if n == 0 {\n",
    "        return 1\n",
    "    }\n",
    "    return n * fact(n-1)\n",
    "}\n",
    "\n",
    "func main() {\n",
    "    fmt.Println(fact(7))\n",
    "}\n",
    "\n",
    "main()"
   ]
  },
  {
   "cell_type": "markdown",
   "metadata": {},
   "source": [
    "# Pointer"
   ]
  },
  {
   "cell_type": "code",
   "execution_count": 31,
   "metadata": {},
   "outputs": [
    {
     "name": "stdout",
     "output_type": "stream",
     "text": [
      "initial: 1\n",
      "zeroval: 1\n",
      "zeroptr: 0\n",
      "pointer: 0xc0000a4700\n"
     ]
    }
   ],
   "source": [
    "import \"fmt\"\n",
    "\n",
    "func zeroval(ival int) {\n",
    "    ival = 0\n",
    "}\n",
    "\n",
    "func zeroptr(iptr *int) {\n",
    "    *iptr = 0\n",
    "}\n",
    "\n",
    "func main() {\n",
    "    i := 1\n",
    "    fmt.Println(\"initial:\", i)\n",
    "\n",
    "    zeroval(i)\n",
    "    fmt.Println(\"zeroval:\", i)\n",
    "\n",
    "    zeroptr(&i)\n",
    "    fmt.Println(\"zeroptr:\", i)\n",
    "\n",
    "    fmt.Println(\"pointer:\", &i)\n",
    "}\n",
    "\n",
    "main()"
   ]
  },
  {
   "cell_type": "markdown",
   "metadata": {},
   "source": [
    "# Struture"
   ]
  },
  {
   "cell_type": "code",
   "execution_count": 32,
   "metadata": {},
   "outputs": [
    {
     "name": "stdout",
     "output_type": "stream",
     "text": [
      "{Bob 20}\n",
      "{Alice 30}\n",
      "{Fred 0}\n",
      "&{Ann 40}\n",
      "&{Jon 42}\n",
      "Sean\n",
      "50\n",
      "51\n"
     ]
    }
   ],
   "source": [
    "import \"fmt\"\n",
    "\n",
    "type person struct {\n",
    "    name string\n",
    "    age  int\n",
    "}\n",
    "\n",
    "func newPerson(name string) *person {\n",
    "\n",
    "    p := person{name: name}\n",
    "    p.age = 42\n",
    "    return &p\n",
    "}\n",
    "\n",
    "func main() {\n",
    "\n",
    "    fmt.Println(person{\"Bob\", 20})\n",
    "\n",
    "    fmt.Println(person{name: \"Alice\", age: 30})\n",
    "\n",
    "    fmt.Println(person{name: \"Fred\"})\n",
    "\n",
    "    fmt.Println(&person{name: \"Ann\", age: 40})\n",
    "\n",
    "    fmt.Println(newPerson(\"Jon\"))\n",
    "\n",
    "    s := person{name: \"Sean\", age: 50}\n",
    "    fmt.Println(s.name)\n",
    "\n",
    "    sp := &s\n",
    "    fmt.Println(sp.age)\n",
    "\n",
    "    sp.age = 51\n",
    "    fmt.Println(sp.age)\n",
    "}\n",
    "\n",
    "main()"
   ]
  },
  {
   "cell_type": "code",
   "execution_count": null,
   "metadata": {},
   "outputs": [],
   "source": []
  }
 ],
 "metadata": {
  "kernelspec": {
   "display_name": "Go",
   "language": "go",
   "name": "gophernotes"
  },
  "language_info": {
   "codemirror_mode": "",
   "file_extension": ".go",
   "mimetype": "",
   "name": "go",
   "nbconvert_exporter": "",
   "pygments_lexer": "",
   "version": "go1.11.4"
  }
 },
 "nbformat": 4,
 "nbformat_minor": 2
}
